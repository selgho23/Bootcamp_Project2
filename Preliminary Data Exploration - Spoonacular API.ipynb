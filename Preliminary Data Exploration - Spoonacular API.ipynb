{
 "cells": [
  {
   "cell_type": "code",
   "execution_count": 26,
   "metadata": {},
   "outputs": [],
   "source": [
    "import urllib.request\n",
    "from PIL import Image\n",
    "import requests\n",
    "import json\n",
    "import cv2\n",
    "import base64\n",
    "from pprint import pprint\n",
    "from config import apiKey"
   ]
  },
  {
   "cell_type": "markdown",
   "metadata": {},
   "source": [
    "# Generate Custom Meal Plan"
   ]
  },
  {
   "cell_type": "markdown",
   "metadata": {},
   "source": [
    "## Get Recipe Ids"
   ]
  },
  {
   "cell_type": "code",
   "execution_count": 38,
   "metadata": {},
   "outputs": [
    {
     "name": "stdout",
     "output_type": "stream",
     "text": [
      "{'number': 1,\n",
      " 'offset': 0,\n",
      " 'results': [{'id': 773578,\n",
      "              'image': 'https://spoonacular.com/recipeImages/773578-312x231.jpg',\n",
      "              'imageType': 'jpg',\n",
      "              'title': 'Pesto Salmon and Italian Veggies in Foil'}],\n",
      " 'totalResults': 4788}\n"
     ]
    }
   ],
   "source": [
    "url = \"https://api.spoonacular.com/recipes/complexSearch\"\n",
    "params = {\n",
    "    \"apiKey\": apiKey,\n",
    "    \"diet\": \"gluten free\",\n",
    "    \"cuisine\": \"italian\",\n",
    "    \"excludeIngredients\": \"wheat\",\n",
    "    \"number\": 1\n",
    "}\n",
    "response1 = requests.get(url, params=params).json()\n",
    "pprint(response1)"
   ]
  },
  {
   "cell_type": "code",
   "execution_count": 36,
   "metadata": {},
   "outputs": [
    {
     "name": "stdout",
     "output_type": "stream",
     "text": [
      "[{'id': 979822,\n",
      "  'image': 'baked-spaghetti-and-meatballs-979822.jpg',\n",
      "  'imageUrls': ['baked-spaghetti-and-meatballs-979822.jpg'],\n",
      "  'readyInMinutes': 45,\n",
      "  'servings': 6,\n",
      "  'title': 'Baked Spaghetti and Meatballs'},\n",
      " {'id': 922154,\n",
      "  'image': 'baked-spaghetti-meatballs-922154.jpg',\n",
      "  'imageUrls': ['baked-spaghetti-meatballs-922154.jpg'],\n",
      "  'readyInMinutes': 45,\n",
      "  'servings': 4,\n",
      "  'title': 'Baked Spaghetti & Meatballs'},\n",
      " {'id': 711741,\n",
      "  'image': 'baked-spaghetti-and-meatballs-711741.jpg',\n",
      "  'imageUrls': ['baked-spaghetti-and-meatballs-711741.jpg'],\n",
      "  'readyInMinutes': 45,\n",
      "  'servings': 4,\n",
      "  'title': 'Baked Spaghetti and Meatballs'},\n",
      " {'id': 136475,\n",
      "  'image': 'chicken-meatballs-for-spaghetti-and-meatballs-2-136475.jpg',\n",
      "  'imageUrls': ['chicken-meatballs-for-spaghetti-and-meatballs-2-136475.jpg',\n",
      "                'chicken_meatballs_for_spaghetti_and_meatballs-136475.jpg'],\n",
      "  'readyInMinutes': 45,\n",
      "  'servings': 4,\n",
      "  'title': 'Chicken Meatballs For Spaghetti and Meatballs'},\n",
      " {'id': 299468,\n",
      "  'image': 'spaghetti-and-meatballs-299468.jpeg',\n",
      "  'imageUrls': ['spaghetti-and-meatballs-299468.jpeg'],\n",
      "  'readyInMinutes': 90,\n",
      "  'servings': 6,\n",
      "  'title': 'Spaghetti and Meatballs'},\n",
      " {'id': 428517,\n",
      "  'image': 'Spaghetti-and-Meatballs-428517.jpg',\n",
      "  'imageUrls': ['Spaghetti-and-Meatballs-428517.jpg'],\n",
      "  'readyInMinutes': 85,\n",
      "  'servings': 8,\n",
      "  'title': 'Spaghetti and Meatballs'},\n",
      " {'id': 303821,\n",
      "  'image': 'spaghetti-and-meatballs-303821.jpeg',\n",
      "  'imageUrls': ['spaghetti-and-meatballs-303821.jpeg'],\n",
      "  'readyInMinutes': 150,\n",
      "  'servings': 8,\n",
      "  'title': 'Spaghetti and Meatballs'},\n",
      " {'id': 375681,\n",
      "  'image': 'spaghetti-and-meatballs-375681.jpeg',\n",
      "  'imageUrls': ['spaghetti-and-meatballs-375681.jpeg'],\n",
      "  'readyInMinutes': 35,\n",
      "  'servings': 4,\n",
      "  'title': 'Spaghetti and Meatballs'},\n",
      " {'id': 499027,\n",
      "  'image': 'Spaghetti-and-Meatballs-499027.jpg',\n",
      "  'imageUrls': ['Spaghetti-and-Meatballs-499027.jpg'],\n",
      "  'readyInMinutes': 45,\n",
      "  'servings': 6,\n",
      "  'title': 'Spaghetti and Meatballs'},\n",
      " {'id': 405270,\n",
      "  'image': 'Spaghetti-and-Meatballs-405270.jpg',\n",
      "  'imageUrls': ['Spaghetti-and-Meatballs-405270.jpg'],\n",
      "  'readyInMinutes': 205,\n",
      "  'servings': 8,\n",
      "  'title': 'Spaghetti and Meatballs'}]\n"
     ]
    }
   ],
   "source": [
    "url = f\"https://api.spoonacular.com/recipes/{response1['results'][0]['id']}/similar\"\n",
    "params = {\n",
    "    \"apiKey\": apiKey,\n",
    "    \"number\": 10\n",
    "}\n",
    "response2 = requests.get(url, params=params).json()\n",
    "pprint(response2)"
   ]
  },
  {
   "cell_type": "code",
   "execution_count": 3,
   "metadata": {},
   "outputs": [],
   "source": [
    "base_url = \"https://api.spoonacular.com/recipes/mealplans/generate?\""
   ]
  },
  {
   "cell_type": "code",
   "execution_count": 4,
   "metadata": {},
   "outputs": [
    {
     "name": "stdout",
     "output_type": "stream",
     "text": [
      "How many calories? 1800\n",
      "Diet (vegetarian, gluten free, etc. ) n/a\n",
      "Allergic to anything? n/a\n"
     ]
    }
   ],
   "source": [
    "targetCalories = input(\"How many calories? \")\n",
    "diet = input(\"Diet (vegetarian, gluten free, etc. ) \" )\n",
    "exclude = input(\"Allergic to anything? \")\n",
    "\n",
    "## Check user response\n",
    "if targetCalories == \"n/a\":\n",
    "    targetCalories = \"\"\n",
    "if diet == \"n/a\":\n",
    "    diet = \"\"\n",
    "if exclude == \"n/a\":\n",
    "    exclude = \"\"\n",
    "\n",
    "diet_list = ['gluten free', 'ketogenic', 'vegetarian', 'lacto-vegetarian',\n",
    "             'ovo-vegetarian', 'vegan', 'pescetarian', 'paleo', 'primal',\n",
    "             'whole30']\n",
    "intolerances_list = ['dairy', 'egg', 'gluten', 'grain', 'peanut', 'seafood',\n",
    "                  'sesame', 'shellfish', 'soy', 'sulfite', 'tree nut', 'wheat']\n",
    "params = {\n",
    "    \"apiKey\": apiKey,\n",
    "    \"timeFrame\": \"day\",\n",
    "    \"targetCalories\": targetCalories,\n",
    "    \"diet\": diet,\n",
    "    \"exclude\": exclude\n",
    "}"
   ]
  },
  {
   "cell_type": "code",
   "execution_count": 5,
   "metadata": {},
   "outputs": [],
   "source": [
    "sparse_recipe = requests.get(base_url, params=params).json()"
   ]
  },
  {
   "cell_type": "code",
   "execution_count": 6,
   "metadata": {},
   "outputs": [],
   "source": [
    "recipe_ids = [str(recipe['id']) for recipe in sparse_recipe['meals']]"
   ]
  },
  {
   "cell_type": "markdown",
   "metadata": {},
   "source": [
    "## Get General Recipe Info"
   ]
  },
  {
   "cell_type": "code",
   "execution_count": 7,
   "metadata": {},
   "outputs": [],
   "source": [
    "recipe_url = f\"https://api.spoonacular.com/recipes/informationBulk?includeNutrition=true\"\n",
    "params = {\n",
    "    \"ids\": \",\".join(recipe_ids),\n",
    "    'apiKey': apiKey\n",
    "}"
   ]
  },
  {
   "cell_type": "code",
   "execution_count": 8,
   "metadata": {},
   "outputs": [],
   "source": [
    "recipe_response = requests.get(recipe_url, params=params).json()"
   ]
  },
  {
   "cell_type": "code",
   "execution_count": 9,
   "metadata": {},
   "outputs": [],
   "source": [
    "categories_to_keep = ['image', 'servings', 'readyInMinutes', 'sourceName',\n",
    "                      'sourceUrl', 'aggregateLikes', 'pricePerServing',\n",
    "                      'weightWatcherSmartPoints', 'spoonacularScore', 'title']\n",
    "\n",
    "recipe_summary_info = {\"breakfast\": {}, \"lunch\": {}, \"dinner\": {}}\n",
    "meals = [key for key in recipe_summary_info.keys()]\n",
    "idx = 0\n",
    "\n",
    "for recipe in recipe_response: \n",
    "    for key, value in recipe.items():\n",
    "        if key in categories_to_keep:\n",
    "            recipe_summary_info[meals[idx]][key] = value\n",
    "    idx = idx + 1"
   ]
  },
  {
   "cell_type": "markdown",
   "metadata": {},
   "source": [
    "## Get Recipe Ingredients and Instructions"
   ]
  },
  {
   "cell_type": "code",
   "execution_count": 10,
   "metadata": {},
   "outputs": [],
   "source": [
    "recipe_instructions = {\"breakfast\": {}, \"lunch\": {}, \"dinner\": {}}\n",
    "idx = 0\n",
    "\n",
    "for recipe in recipe_response:\n",
    "    recipe_instructions[meals[idx]] = recipe['instructions']\n",
    "    idx = idx + 1"
   ]
  },
  {
   "cell_type": "code",
   "execution_count": 11,
   "metadata": {},
   "outputs": [],
   "source": [
    "recipe_ingredients = {\"breakfast\": {}, \"lunch\": {}, \"dinner\": {}}\n",
    "idx = 0\n",
    "\n",
    "for recipe in recipe_response:\n",
    "    ingredients = [f\"{food['originalString']}\\n\" for food in recipe['extendedIngredients']]\n",
    "    ingredients = \"\".join(ingredients)\n",
    "    recipe_ingredients[meals[idx]] = ingredients\n",
    "    idx = idx + 1"
   ]
  },
  {
   "cell_type": "markdown",
   "metadata": {},
   "source": [
    "## Get Recipe Nutrition"
   ]
  },
  {
   "cell_type": "code",
   "execution_count": 18,
   "metadata": {},
   "outputs": [],
   "source": [
    "recipe_calories = {\"breakfast\": {}, \"lunch\": {}, \"dinner\": {}}\n",
    "idx = 0\n",
    "\n",
    "for recipe in recipe_response:\n",
    "    recipe_calories[meals[idx]] = recipe['nutrition']['caloricBreakdown']\n",
    "    idx = idx+1"
   ]
  },
  {
   "cell_type": "code",
   "execution_count": 21,
   "metadata": {},
   "outputs": [],
   "source": [
    "recipe_nutrients = {\"breakfast\": {}, \"lunch\": {}, \"dinner\": {}}\n",
    "idx = 0\n",
    "\n",
    "for recipe in recipe_response:\n",
    "    recipe_nutrients[meals[idx]] = recipe['nutrition']['nutrients']"
   ]
  },
  {
   "cell_type": "code",
   "execution_count": null,
   "metadata": {},
   "outputs": [],
   "source": []
  }
 ],
 "metadata": {
  "kernelspec": {
   "display_name": "Python 3",
   "language": "python",
   "name": "python3"
  },
  "language_info": {
   "codemirror_mode": {
    "name": "ipython",
    "version": 3
   },
   "file_extension": ".py",
   "mimetype": "text/x-python",
   "name": "python",
   "nbconvert_exporter": "python",
   "pygments_lexer": "ipython3",
   "version": "3.7.3"
  }
 },
 "nbformat": 4,
 "nbformat_minor": 2
}
