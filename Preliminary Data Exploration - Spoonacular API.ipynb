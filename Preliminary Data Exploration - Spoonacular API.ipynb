{
 "cells": [
  {
   "cell_type": "code",
   "execution_count": 9,
   "metadata": {},
   "outputs": [],
   "source": [
    "import requests\n",
    "import json\n",
    "from pprint import pprint"
   ]
  },
  {
   "cell_type": "code",
   "execution_count": 13,
   "metadata": {},
   "outputs": [
    {
     "name": "stdout",
     "output_type": "stream",
     "text": [
      "Day or week? day\n",
      "How many calories? 2000\n",
      "Diet (vegetarian, gluten free, etc. )vegetarian\n",
      "Allergic to anything? peanuts\n"
     ]
    }
   ],
   "source": [
    "## Generate Meal Plan\n",
    "base_url = \"https://api.spoonacular.com/recipes/mealplans/generate?\"\n",
    "\n",
    "timeFrame = input(\"Day or week? \")\n",
    "targetCalories = input(\"How many calories? \")\n",
    "diet = input(\"Diet (vegetarian, gluten free, etc. ) \" )\n",
    "exclude = input(\"Allergic to anything? \")\n",
    "apiKey = \"04fb86887e394402ba2f0f6cedd8a715\"\n",
    "\n",
    "params = {\n",
    "    \"apiKey\": \"04fb86887e394402ba2f0f6cedd8a715\",\n",
    "    \"timeFrame\": timeFrame,\n",
    "    \"targetCalories\": targetCalories,\n",
    "    \"diet\": diet,\n",
    "    \"exclude\": exclude\n",
    "}\n",
    "url = base_url + \"apiKey=\" + apiKey;\n",
    "response = requests.get(base_url, params=params).json()"
   ]
  },
  {
   "cell_type": "code",
   "execution_count": 15,
   "metadata": {},
   "outputs": [
    {
     "name": "stdout",
     "output_type": "stream",
     "text": [
      "{'meals': [{'id': 641047,\n",
      "            'image': 'Curious-Georges-Gluten-Free-Banana-Nut-Bread-641047.jpg',\n",
      "            'imageUrls': ['Curious-Georges-Gluten-Free-Banana-Nut-Bread-641047.jpg'],\n",
      "            'readyInMinutes': 45,\n",
      "            'servings': 8,\n",
      "            'title': \"Curious George's Gluten-Free Banana Nut Bread\"},\n",
      "           {'author': 'coffeebean',\n",
      "            'id': 157272,\n",
      "            'image': 'Pomegranate-Nutella-Waffles-157272.jpg',\n",
      "            'imageUrls': ['Pomegranate-Nutella-Waffles-157272.jpg'],\n",
      "            'readyInMinutes': 30,\n",
      "            'servings': 2,\n",
      "            'title': 'Pomegranate-Nutella Waffles'},\n",
      "           {'id': 642540,\n",
      "            'image': 'Falafel-Burgers-642540.jpg',\n",
      "            'imageUrls': ['Falafel-Burgers-642540.jpg'],\n",
      "            'readyInMinutes': 45,\n",
      "            'servings': 4,\n",
      "            'title': 'Falafel Burgers'}],\n",
      " 'nutrients': {'calories': 1851.05,\n",
      "               'carbohydrates': 205.43,\n",
      "               'fat': 94.98,\n",
      "               'protein': 57.28}}\n"
     ]
    }
   ],
   "source": [
    "pprint(response)"
   ]
  },
  {
   "cell_type": "code",
   "execution_count": null,
   "metadata": {},
   "outputs": [],
   "source": []
  }
 ],
 "metadata": {
  "kernelspec": {
   "display_name": "Python 3",
   "language": "python",
   "name": "python3"
  },
  "language_info": {
   "codemirror_mode": {
    "name": "ipython",
    "version": 3
   },
   "file_extension": ".py",
   "mimetype": "text/x-python",
   "name": "python",
   "nbconvert_exporter": "python",
   "pygments_lexer": "ipython3",
   "version": "3.7.3"
  }
 },
 "nbformat": 4,
 "nbformat_minor": 2
}
