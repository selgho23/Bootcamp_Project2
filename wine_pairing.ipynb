{
 "cells": [
  {
   "cell_type": "code",
   "execution_count": 16,
   "metadata": {},
   "outputs": [],
   "source": [
    "# Import BeautifulSoup and other requirements\n",
    "import requests\n",
    "import bs4 \n",
    "import time\n",
    "from bs4 import BeautifulSoup as bs\n",
    "from splinter import Browser\n",
    "import pandas as pd\n",
    "import re\n",
    "from pprint import pprint\n",
    "import config\n",
    "from config import api_key"
   ]
  },
  {
   "cell_type": "code",
   "execution_count": 17,
   "metadata": {},
   "outputs": [],
   "source": [
    "# # Generate Meal Plan\n",
    "# base_url = \"https://api.spoonacular.com/recipes/mealplans/generate?\"\n",
    "\n",
    "# timeFrame = input(\"Day or week? \")\n",
    "# targetCalories = input(\"How many calories? \")\n",
    "# diet = input(\"Diet (vegetarian, gluten free, etc. ) \" )\n",
    "# exclude = input(\"Allergic to anything? \")\n",
    "# apiKey = \"5aa74197940d49a08c72c4c74b6c572e\"\n",
    "\n",
    "# params = {\n",
    "#     \"apiKey\": \"5aa74197940d49a08c72c4c74b6c572e\",\n",
    "#     \"timeFrame\": timeFrame,\n",
    "#     \"targetCalories\": targetCalories,\n",
    "#     \"diet\": diet,\n",
    "#     \"exclude\": exclude\n",
    "# }\n",
    "# url = base_url + \"apiKey=\" + apiKey;\n",
    "# response = requests.get(base_url, params=params).json()\n",
    "\n"
   ]
  },
  {
   "cell_type": "code",
   "execution_count": 18,
   "metadata": {},
   "outputs": [],
   "source": [
    "\n",
    "#pprint(response)\n",
    "\n"
   ]
  },
  {
   "cell_type": "code",
   "execution_count": 64,
   "metadata": {},
   "outputs": [
    {
     "name": "stdout",
     "output_type": "stream",
     "text": [
      "{'pairedWines': ['merlot', 'cabernet sauvignon', 'pinot noir'], 'pairingText': \"Merlot, Cabernet Sauvignon, and Pinot Noir are my top picks for Steak. After all, beef and red wine are a classic combination. Generally, leaner steaks go well with light or medium-bodied reds, such as pinot noir or merlot, while fattier steaks can handle a bold red, such as cabernet sauvingnon. One wine you could try is Osprey's Dominion Merlot. It has 4 out of 5 stars and a bottle costs about 18 dollars.\", 'productMatches': [{'id': 430916, 'title': \"Osprey's Dominion Merlot\", 'description': \"Osprey's Dominion Merlot offers classic dark plum aromas with blackberry preserves, sweet cedar, smoke and vanilla. And while the nose is rather fruity, the palate isn't overly so with rich flavors of chocolate, mint and tobacco joining the party. The medium tannins are there, but not overly aggressive. With another year or so in bottle they should integrate even more. Overall, this wine is medium on body but full on flavor\", 'price': '$18.0', 'imageUrl': 'https://spoonacular.com/productImages/430916-312x231.jpg', 'averageRating': 0.8, 'ratingCount': 1.0, 'score': 0.55, 'link': 'https://www.amazon.com/2012-Ospreys-Dominion-Merlot-750/dp/B00GMP1JDY?tag=spoonacular-20'}]}\n",
      "{'pairedWines': ['malbec', 'merlot', 'zinfandel'], 'pairingText': 'Burger can be paired with Malbec, Merlot, and Zinfandel. Merlot will be perfectly adequate for a classic burger with standard toppings. Bolder toppings call for bolder wines, such as a malbec or peppery zinfandel. The Belasco de Baquedano Llama Malbec with a 4.3 out of 5 star rating seems like a good match. It costs about 17 dollars per bottle.', 'productMatches': [{'id': 449922, 'title': 'Belasco de Baquedano Llama Malbec', 'description': 'As its namesake, this wine embodies the distinctive spirit of our vineyards, spanning the foothills of the Andes. Llama is a rich ruby-purple color, and boasts elegant flavors of black berries, ripe plum and robust spices with good balance and structure.', 'price': '$16.99', 'imageUrl': 'https://spoonacular.com/productImages/449922-312x231.jpg', 'averageRating': 0.86, 'ratingCount': 5.0, 'score': 0.7975, 'link': 'https://click.linksynergy.com/deeplink?id=*QCiIS6t4gA&mid=2025&murl=https%3A%2F%2Fwww.wine.com%2Fproduct%2Fbelasco-de-baquedano-llama-malbec-2013%2F132727'}]}\n",
      "[['merlot', 'cabernet sauvignon', 'pinot noir'], ['malbec', 'merlot', 'zinfandel']]\n",
      "[\"Merlot, Cabernet Sauvignon, and Pinot Noir are my top picks for Steak. After all, beef and red wine are a classic combination. Generally, leaner steaks go well with light or medium-bodied reds, such as pinot noir or merlot, while fattier steaks can handle a bold red, such as cabernet sauvingnon. One wine you could try is Osprey's Dominion Merlot. It has 4 out of 5 stars and a bottle costs about 18 dollars.\", 'Burger can be paired with Malbec, Merlot, and Zinfandel. Merlot will be perfectly adequate for a classic burger with standard toppings. Bolder toppings call for bolder wines, such as a malbec or peppery zinfandel. The Belasco de Baquedano Llama Malbec with a 4.3 out of 5 star rating seems like a good match. It costs about 17 dollars per bottle.']\n"
     ]
    }
   ],
   "source": [
    "#food_list = ['steak','Hamburger','Pizza','tuna','pork','Tacos','mexican','chinese','Fajitas','salmon','Meatloaf','crabcakes','lobster','fish','shrimp','oysters','italian','pasta','indian','barbecue','sushi','thai','cajun','greek','southern','chicken','beef','tuna']\n",
    "#food_list = ['cajun','greek','southern','chicken','beef','tuna']\n",
    "\n",
    "food_list = ['steak','Hamburger']\n",
    "paired_wine = []\n",
    "pairing_text = []\n",
    "\n",
    "base_url = \"https://api.spoonacular.com/food/wine/pairing?food={food_list[i]}\"\n",
    "\n",
    "# base_url = \"https://api.spoonacular.com/food/wine/pairing?food=steak\"\n",
    "#url = base_url + \" apiKey=\" + api_key;\n",
    "#print(url)\n",
    "\n",
    "# food_response = requests.get(base_url,params={\"apiKey\" : api_key})\n",
    "# food_json = food_response.json()\n",
    "# print (food_json)\n",
    "\n",
    "\n",
    "\n",
    "# Get the temperature from the response\n",
    "#print(f\"The spponacular API responded with: {food_response}.\")\n",
    "\n",
    "\n",
    "\n",
    "for food in food_list:\n",
    "   food_response = requests.get(f\"https://api.spoonacular.com/food/wine/pairing?food={food}\", params={\"apiKey\" : api_key})\n",
    "   food_json = food_response.json()\n",
    "   print (food_json)\n",
    "   paired_wine.append(food_json['pairedWines'])\n",
    "   pairing_text.append(food_json['pairingText'])\n",
    "\n",
    "# print(paired_list[1][0])\n",
    "print(paired_wine)\n",
    "print(pairing_text)\n",
    "\n",
    "\n",
    "\n",
    "\n",
    "\n",
    "\n",
    "\n",
    "\n",
    "\n",
    "\n",
    "\n",
    "\n"
   ]
  },
  {
   "cell_type": "code",
   "execution_count": 66,
   "metadata": {},
   "outputs": [
    {
     "data": {
      "text/html": [
       "<div>\n",
       "<style scoped>\n",
       "    .dataframe tbody tr th:only-of-type {\n",
       "        vertical-align: middle;\n",
       "    }\n",
       "\n",
       "    .dataframe tbody tr th {\n",
       "        vertical-align: top;\n",
       "    }\n",
       "\n",
       "    .dataframe thead th {\n",
       "        text-align: right;\n",
       "    }\n",
       "</style>\n",
       "<table border=\"1\" class=\"dataframe\">\n",
       "  <thead>\n",
       "    <tr style=\"text-align: right;\">\n",
       "      <th></th>\n",
       "      <th>food</th>\n",
       "      <th>paired_wine</th>\n",
       "      <th>pairing_text</th>\n",
       "    </tr>\n",
       "  </thead>\n",
       "  <tbody>\n",
       "    <tr>\n",
       "      <th>0</th>\n",
       "      <td>steak</td>\n",
       "      <td>[merlot, cabernet sauvignon, pinot noir]</td>\n",
       "      <td>Merlot, Cabernet Sauvignon, and Pinot Noir are...</td>\n",
       "    </tr>\n",
       "    <tr>\n",
       "      <th>1</th>\n",
       "      <td>Hamburger</td>\n",
       "      <td>[malbec, merlot, zinfandel]</td>\n",
       "      <td>Burger can be paired with Malbec, Merlot, and ...</td>\n",
       "    </tr>\n",
       "  </tbody>\n",
       "</table>\n",
       "</div>"
      ],
      "text/plain": [
       "        food                               paired_wine  \\\n",
       "0      steak  [merlot, cabernet sauvignon, pinot noir]   \n",
       "1  Hamburger               [malbec, merlot, zinfandel]   \n",
       "\n",
       "                                        pairing_text  \n",
       "0  Merlot, Cabernet Sauvignon, and Pinot Noir are...  \n",
       "1  Burger can be paired with Malbec, Merlot, and ...  "
      ]
     },
     "execution_count": 66,
     "metadata": {},
     "output_type": "execute_result"
    }
   ],
   "source": [
    "Summary_table= pd.DataFrame({\"food\":food_list,\n",
    "                             \"paired_wine\":paired_wine,\n",
    "                             \"pairing_text\":pairing_text\n",
    "                             })\n",
    "Summary_table \n",
    "\n"
   ]
  },
  {
   "cell_type": "code",
   "execution_count": 67,
   "metadata": {},
   "outputs": [],
   "source": [
    "# import json\n",
    "# from pymongo import MongoClient\n",
    "\n",
    "\n",
    "# client = MongoClient('localhost', 27017)\n",
    "# db = client['food_wine_db']\n",
    "# collection_food = db['pairingdata']\n",
    "\n",
    "# food_data = json.dumps(food_json)\n",
    "# collection_food.insert_one(food_data)\n",
    "\n",
    "# client.close()\n",
    "# #with open('food_json') as f:\n",
    "# #     file_data = json.load(f)\n",
    "\n",
    "# # import pymongo\n",
    "\n",
    "\n",
    "\n"
   ]
  },
  {
   "cell_type": "code",
   "execution_count": 72,
   "metadata": {},
   "outputs": [],
   "source": [
    "Summary_table.to_csv(\"output/summary.csv\",header =True)  "
   ]
  },
  {
   "cell_type": "code",
   "execution_count": null,
   "metadata": {},
   "outputs": [],
   "source": []
  }
 ],
 "metadata": {
  "kernelspec": {
   "display_name": "pythondata",
   "language": "python",
   "name": "pythondata"
  },
  "language_info": {
   "codemirror_mode": {
    "name": "ipython",
    "version": 3
   },
   "file_extension": ".py",
   "mimetype": "text/x-python",
   "name": "python",
   "nbconvert_exporter": "python",
   "pygments_lexer": "ipython3",
   "version": "3.7.3"
  }
 },
 "nbformat": 4,
 "nbformat_minor": 2
}
