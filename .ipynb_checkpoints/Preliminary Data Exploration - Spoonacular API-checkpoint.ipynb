{
 "cells": [
  {
   "cell_type": "code",
   "execution_count": 1,
   "metadata": {},
   "outputs": [],
   "source": [
    "import requests\n",
    "import json\n",
    "from pprint import pprint\n",
    "from config import apiKey"
   ]
  },
  {
   "cell_type": "markdown",
   "metadata": {},
   "source": [
    "## Generate Meal Plan"
   ]
  },
  {
   "cell_type": "code",
   "execution_count": 4,
   "metadata": {},
   "outputs": [
    {
     "name": "stdout",
     "output_type": "stream",
     "text": [
      "Day or week? day\n",
      "How many calories? 2000\n",
      "Diet (vegetarian, gluten free, etc. ) vegetarian\n",
      "Allergic to anything? peanuts\n"
     ]
    }
   ],
   "source": [
    "## Generate Meal Plan\n",
    "base_url = \"https://api.spoonacular.com/recipes/mealplans/generate?\"\n",
    "\n",
    "timeFrame = input(\"Day or week? \")\n",
    "targetCalories = input(\"How many calories? \")\n",
    "diet = input(\"Diet (vegetarian, gluten free, etc. ) \" )\n",
    "exclude = input(\"Allergic to anything? \")\n",
    "\n",
    "params = {\n",
    "    \"apiKey\": apiKey,\n",
    "    \"timeFrame\": timeFrame,\n",
    "    \"targetCalories\": targetCalories,\n",
    "    \"diet\": diet,\n",
    "    \"exclude\": exclude\n",
    "}\n",
    "response = requests.get(base_url, params=params).json()"
   ]
  },
  {
   "cell_type": "code",
   "execution_count": 5,
   "metadata": {},
   "outputs": [
    {
     "name": "stdout",
     "output_type": "stream",
     "text": [
      "{'meals': [{'id': 663853,\n",
      "            'image': 'Tropical-Breakfast-Quinoa-663853.jpg',\n",
      "            'imageUrls': ['Tropical-Breakfast-Quinoa-663853.jpg'],\n",
      "            'readyInMinutes': 45,\n",
      "            'servings': 2,\n",
      "            'title': 'Tropical Breakfast Quinoa'},\n",
      "           {'id': 633754,\n",
      "            'image': 'Baked-Ratatouille-633754.jpg',\n",
      "            'imageUrls': ['Baked-Ratatouille-633754.jpg'],\n",
      "            'readyInMinutes': 45,\n",
      "            'servings': 1,\n",
      "            'title': 'Baked Ratatouille'},\n",
      "           {'id': 782619,\n",
      "            'image': 'mushroom-goat-cheese-baked-eggs-782619.png',\n",
      "            'imageUrls': ['mushroom-goat-cheese-baked-eggs-782619.png'],\n",
      "            'readyInMinutes': 45,\n",
      "            'servings': 2,\n",
      "            'title': 'Mushroom Goat Cheese Baked Eggs'}],\n",
      " 'nutrients': {'calories': 2019.55,\n",
      "               'carbohydrates': 203.39,\n",
      "               'fat': 106.25,\n",
      "               'protein': 80.21}}\n"
     ]
    }
   ],
   "source": [
    "pprint(response)"
   ]
  },
  {
   "cell_type": "code",
   "execution_count": 7,
   "metadata": {},
   "outputs": [],
   "source": [
    "recipe_ids = [recipe['id'] for recipe in response['meals']]"
   ]
  },
  {
   "cell_type": "code",
   "execution_count": 8,
   "metadata": {},
   "outputs": [
    {
     "data": {
      "text/plain": [
       "[663853, 633754, 782619]"
      ]
     },
     "execution_count": 8,
     "metadata": {},
     "output_type": "execute_result"
    }
   ],
   "source": [
    "recipe_ids"
   ]
  },
  {
   "cell_type": "code",
   "execution_count": null,
   "metadata": {},
   "outputs": [],
   "source": [
    "recipe_url = f\"https://api.spoonacular.com/recipes/informationBulk?includeNutrition=true?ids=\" +\n",
    "                f\"{recipe_ids[0]}, {recipe_ids[1], {recipe_ids[2]}}\""
   ]
  }
 ],
 "metadata": {
  "kernelspec": {
   "display_name": "Python 3",
   "language": "python",
   "name": "python3"
  },
  "language_info": {
   "codemirror_mode": {
    "name": "ipython",
    "version": 3
   },
   "file_extension": ".py",
   "mimetype": "text/x-python",
   "name": "python",
   "nbconvert_exporter": "python",
   "pygments_lexer": "ipython3",
   "version": "3.7.3"
  }
 },
 "nbformat": 4,
 "nbformat_minor": 2
}
